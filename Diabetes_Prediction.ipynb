{
  "nbformat": 4,
  "nbformat_minor": 0,
  "metadata": {
    "colab": {
      "provenance": [],
      "authorship_tag": "ABX9TyNiet/mOS9Fyokumu6ej8K0",
      "include_colab_link": true
    },
    "kernelspec": {
      "name": "python3",
      "display_name": "Python 3"
    },
    "language_info": {
      "name": "python"
    }
  },
  "cells": [
    {
      "cell_type": "markdown",
      "metadata": {
        "id": "view-in-github",
        "colab_type": "text"
      },
      "source": [
        "<a href=\"https://colab.research.google.com/github/Dipu1222/Diabetes-Prediction-using-Linear-Regression/blob/main/Diabetes_Prediction.ipynb\" target=\"_parent\"><img src=\"https://colab.research.google.com/assets/colab-badge.svg\" alt=\"Open In Colab\"/></a>"
      ]
    },
    {
      "cell_type": "code",
      "execution_count": 3,
      "metadata": {
        "colab": {
          "base_uri": "https://localhost:8080/"
        },
        "id": "aeOhjC23WDwX",
        "outputId": "f0f6ca46-6bd7-4116-a73b-b0fe7443cb14"
      },
      "outputs": [
        {
          "output_type": "stream",
          "name": "stdout",
          "text": [
            "<class 'pandas.core.frame.DataFrame'>\n",
            "RangeIndex: 768 entries, 0 to 767\n",
            "Data columns (total 9 columns):\n",
            " #   Column                    Non-Null Count  Dtype  \n",
            "---  ------                    --------------  -----  \n",
            " 0   Pregnancies               768 non-null    int64  \n",
            " 1   Glucose                   768 non-null    int64  \n",
            " 2   BloodPressure             768 non-null    int64  \n",
            " 3   SkinThickness             768 non-null    int64  \n",
            " 4   Insulin                   768 non-null    int64  \n",
            " 5   BMI                       768 non-null    float64\n",
            " 6   DiabetesPedigreeFunction  768 non-null    float64\n",
            " 7   Age                       768 non-null    int64  \n",
            " 8   Outcome                   768 non-null    int64  \n",
            "dtypes: float64(2), int64(7)\n",
            "memory usage: 54.1 KB\n"
          ]
        },
        {
          "output_type": "execute_result",
          "data": {
            "text/plain": [
              "(None,\n",
              "    Pregnancies  Glucose  BloodPressure  SkinThickness  Insulin   BMI  \\\n",
              " 0            6      148             72             35        0  33.6   \n",
              " 1            1       85             66             29        0  26.6   \n",
              " 2            8      183             64              0        0  23.3   \n",
              " 3            1       89             66             23       94  28.1   \n",
              " 4            0      137             40             35      168  43.1   \n",
              " \n",
              "    DiabetesPedigreeFunction  Age  Outcome  \n",
              " 0                     0.627   50        1  \n",
              " 1                     0.351   31        0  \n",
              " 2                     0.672   32        1  \n",
              " 3                     0.167   21        0  \n",
              " 4                     2.288   33        1  )"
            ]
          },
          "metadata": {},
          "execution_count": 3
        }
      ],
      "source": [
        "import pandas as pd\n",
        "file_path = \"/content/diabetes.csv\"\n",
        "df = pd.read_csv(file_path)\n",
        "df.info(), df.head()"
      ]
    },
    {
      "cell_type": "code",
      "source": [
        "cols_with_zeros = ['Glucose', 'BloodPressure', 'SkinThickness', 'Insulin', 'BMI']\n",
        "# Replace zero values in each column with the median of the non-zero values\n",
        "for col in cols_with_zeros:\n",
        "    median_value = df[df[col] != 0][col].median()\n",
        "    df[col] = df[col].replace(0, median_value)\n"
      ],
      "metadata": {
        "id": "PX8yWv49XgSU"
      },
      "execution_count": 4,
      "outputs": []
    },
    {
      "cell_type": "code",
      "source": [
        "df.at[0,'Glucose']=df['Glucose'].max()"
      ],
      "metadata": {
        "id": "xWd8QmwXXs4K"
      },
      "execution_count": 5,
      "outputs": []
    },
    {
      "cell_type": "code",
      "source": [
        "min_age= df['Age'].min()\n",
        "df.loc[df['Age']==min_age,'Glucose'] = df['Glucose'].min()\n"
      ],
      "metadata": {
        "id": "K1K8JIMCbJcP"
      },
      "execution_count": 6,
      "outputs": []
    },
    {
      "cell_type": "code",
      "source": [
        "from sklearn.linear_model import LinearRegression\n",
        "from sklearn.model_selection import train_test_split\n",
        "from sklearn.metrics import confusion_matrix,precision_score,recall_score,f1_score,accuracy_score\n",
        "import numpy as np\n",
        "\n",
        "X = df.iloc[:, :-1]. values\n",
        "y = df.iloc[:, -1]. values\n",
        "\n",
        "X_train, X_test, y_train, y_test = train_test_split(X, y, test_size=0.2, random_state=42)\n",
        "\n",
        "# Train Linear Regression model\n",
        "lr_model = LinearRegression()\n",
        "lr_model.fit(X_train, y_train)\n",
        "\n",
        "# Predict and round to nearest integer\n",
        "y_pred_continuous = lr_model.predict(X_test)\n",
        "y_pred = np.round(y_pred_continuous).astype(int)\n",
        "\n",
        "# Evaluate the model\n",
        "accuracy = accuracy_score(y_test, y_pred)\n",
        "conf_matrix = confusion_matrix(y_test, y_pred)\n",
        "precision = precision_score(y_test, y_pred, zero_division=0)\n",
        "recall = recall_score(y_test, y_pred, zero_division=0)\n",
        "f1 = f1_score(y_test, y_pred, zero_division=0)\n",
        "\n",
        "accuracy, conf_matrix, precision, recall, f1\n",
        "print(\"Accuracy:\", accuracy)\n",
        "print(\"Confusion Matrix:\\n\", conf_matrix)\n",
        "print(\"Precision:\", precision)\n",
        "print(\"Recall:\", recall)\n",
        "print(\"F1 Score:\", f1)"
      ],
      "metadata": {
        "colab": {
          "base_uri": "https://localhost:8080/"
        },
        "id": "ElTOBecOcP6W",
        "outputId": "ee2c35f7-3ca4-48ba-a039-33fcf045645d"
      },
      "execution_count": 8,
      "outputs": [
        {
          "output_type": "stream",
          "name": "stdout",
          "text": [
            "Accuracy: 0.7597402597402597\n",
            "Confusion Matrix:\n",
            " [[83 16]\n",
            " [21 34]]\n",
            "Precision: 0.68\n",
            "Recall: 0.6181818181818182\n",
            "F1 Score: 0.6476190476190476\n"
          ]
        }
      ]
    }
  ]
}